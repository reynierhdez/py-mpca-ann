{
  "nbformat": 4,
  "nbformat_minor": 0,
  "metadata": {
    "colab": {
      "name": "mpcaANN",
      "provenance": [],
      "collapsed_sections": [],
      "include_colab_link": true
    },
    "kernelspec": {
      "name": "python3",
      "display_name": "Python 3"
    }
  },
  "cells": [
    {
      "cell_type": "markdown",
      "metadata": {
        "id": "view-in-github",
        "colab_type": "text"
      },
      "source": [
        "<a href=\"https://colab.research.google.com/github/reynierhdez/py-mpca-ann/blob/master/mpcaANN.ipynb\" target=\"_parent\"><img src=\"https://colab.research.google.com/assets/colab-badge.svg\" alt=\"Open In Colab\"/></a>"
      ]
    },
    {
      "cell_type": "code",
      "metadata": {
        "id": "LGcwbvnlOF-j",
        "colab_type": "code",
        "colab": {}
      },
      "source": [
        "import mpi4py\n",
        "import numpy as np\n",
        "import pandas as pd"
      ],
      "execution_count": 0,
      "outputs": []
    },
    {
      "cell_type": "code",
      "metadata": {
        "id": "u1S5XdfrXjbo",
        "colab_type": "code",
        "colab": {}
      },
      "source": [
        "import random\n",
        "\n",
        "class BaseAlgorithm(object):\n",
        "    def __init__(self, function_wrapper, number_of_variables = 1, objective = \"minimization\"):\n",
        "        self.function_wrapper = function_wrapper\n",
        "        self.number_of_variables = number_of_variables\n",
        "        self.objective = objective\n",
        "\n",
        "    def get_decision_variable_value_by_randomization(self, decision_variable_index):\n",
        "        return self.function_wrapper.minimum_decision_variable_values()[decision_variable_index] + (self.function_wrapper.maximum_decision_variable_values()[decision_variable_index] - self.function_wrapper.minimum_decision_variable_values()[decision_variable_index]) * random.random()\n",
        "\n",
        "    def best_function_value_from_list(self, function_values):\n",
        "        if self.objective == \"maximization\":\n",
        "            best_function_value = max(function_values)\n",
        "        elif self.objective == \"minimization\":\n",
        "            best_function_value = min(function_values)\n",
        "\n",
        "        return best_function_value"
      ],
      "execution_count": 0,
      "outputs": []
    },
    {
      "cell_type": "code",
      "metadata": {
        "id": "-7CRLit4RZqb",
        "colab_type": "code",
        "colab": {}
      },
      "source": [
        "class MultiParticleCollisionAlgorithm(BaseAlgorithm):\n",
        "\n",
        "    def __init__(self, function_wrapper, number_of_variables = 1, objective = \"minimization\"):\n",
        "        super().__init__(function_wrapper, number_of_variables, objective)\n",
        "\n",
        "    def search(self, number_of_particles = 20, number_of_iterations = 100, social_coefficient = 0.5, random_variable_coefficient = 0.2):\n",
        "\n",
        "        self.__initialize_particles(number_of_particles)\n",
        "\n",
        "        global_best_position = None\n",
        "        best_function_value = None\n",
        "\n",
        "        for iteration in range(number_of_iterations):\n",
        "\n",
        "            function_values = [self.function_wrapper.objective_function_value(self.__particle_locations[particle_location_index]) for particle_location_index in range(len(self.__particle_locations))]\n",
        "\n",
        "            best_function_value = super(MultiParticleCollisionAlgorithm, self).best_function_value_from_list(function_values)\n",
        "            global_best_position = self.__particle_locations[function_values.index(best_function_value)]\n",
        "\n",
        "            self.__move_particles(global_best_position, social_coefficient, random_variable_coefficient)\n",
        "\n",
        "        return { \"best_decision_variable_values\": global_best_position, \"best_objective_function_value\": best_function_value } \n",
        "\n",
        "    def __initialize_particles(self, number_of_particiles):\n",
        "\n",
        "        self.__particle_locations = []\n",
        "\n",
        "        for individual_index in range(number_of_particiles):\n",
        "            decision_variable_values = [super(MultiParticleCollisionAlgorithm, self).get_decision_variable_value_by_randomization(variable_index) for variable_index in range(self.number_of_variables)]\n",
        "\n",
        "            self.__particle_locations.append(decision_variable_values)\n",
        "\n",
        "    def __move_particles(self, global_best_position, social_coefficient, random_variable_coefficient):\n",
        "\n",
        "        particle_locations_after_move = []\n",
        "       \n",
        "        for particle_location in self.__particle_locations:        \n",
        "\n",
        "            decision_variable_values = []\n",
        "\n",
        "            for variable_index in range(self.number_of_variables):\n",
        "\n",
        "                # The value out-of-range in order to enter while loop\n",
        "                new_particle_location_coordinate = self.function_wrapper.minimum_decision_variable_values()[variable_index] - 1\n",
        "\n",
        "                while new_particle_location_coordinate < self.function_wrapper.minimum_decision_variable_values()[variable_index] or new_particle_location_coordinate > self.function_wrapper.maximum_decision_variable_values()[variable_index]:\n",
        "                    new_particle_location_coordinate = (1 - social_coefficient) * particle_location[variable_index] + social_coefficient * global_best_position[variable_index] + random_variable_coefficient * (random.random() - 0.5)\n",
        "                \n",
        "                decision_variable_values.append(new_particle_location_coordinate)\n",
        "\n",
        "            particle_locations_after_move.append(decision_variable_values)\n",
        "\n",
        "        self.__particle_locations = particle_locations_after_move\n",
        "\n",
        "    def __perturbation(self):\n",
        "      print('perturbation')\n",
        "\n",
        "    def __exploitation(self):\n",
        "      print('exploitation')\n",
        "\n",
        "    def __scattering(self):\n",
        "      print('scattering')\n",
        "\n",
        "    def __update_blackboard(self):\n",
        "      print('blackboard')"
      ],
      "execution_count": 0,
      "outputs": []
    },
    {
      "cell_type": "code",
      "metadata": {
        "id": "qpqpi9jphGTi",
        "colab_type": "code",
        "outputId": "13cbc990-01f9-4514-cecc-45b6a8d50507",
        "colab": {
          "base_uri": "https://localhost:8080/",
          "height": 69
        }
      },
      "source": [
        "class RosenbrookFunctionWrapper():\n",
        "\n",
        "    def maximum_decision_variable_values(self):\n",
        "        return [5, 5]\n",
        "\n",
        "    def minimum_decision_variable_values(self):\n",
        "        return [-5, -5]\n",
        "\n",
        "    def objective_function_value(self, decision_variable_values):\n",
        "        return (1 - decision_variable_values[0])**2 + 100 * (decision_variable_values[1] - decision_variable_values[0]**2)**2\n",
        "\n",
        "    def initial_decision_variable_value_estimates(self):\n",
        "        return [2, 2]\n",
        "\n",
        "\n",
        "rosenbrook_function_wrapper = RosenbrookFunctionWrapper()\n",
        "\n",
        "number_of_variables = 2\n",
        "objective = \"minimization\"\n",
        "\n",
        "mpca = MultiParticleCollisionAlgorithm(rosenbrook_function_wrapper, 2)\n",
        "\n",
        "result = mpca.search()\n",
        "\n",
        "print(result[\"best_decision_variable_values\"][0]) # x value: Example: 1.0112\n",
        "print(result[\"best_decision_variable_values\"][1]) # y value: Example: 0.9988\n",
        "print(result[\"best_objective_function_value\"])    # f(x,y) value: Example: 0.0563  "
      ],
      "execution_count": 0,
      "outputs": [
        {
          "output_type": "stream",
          "text": [
            "1.022914282669731\n",
            "1.0421629528340461\n",
            "0.002281241601145147\n"
          ],
          "name": "stdout"
        }
      ]
    },
    {
      "cell_type": "code",
      "metadata": {
        "id": "9o2p9CU2lt1J",
        "colab_type": "code",
        "colab": {}
      },
      "source": [
        ""
      ],
      "execution_count": 0,
      "outputs": []
    }
  ]
}